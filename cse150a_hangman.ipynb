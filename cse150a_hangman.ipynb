{
  "cells": [
    {
      "cell_type": "code",
      "execution_count": 2,
      "metadata": {
        "id": "tAX7PGkvKC35",
        "outputId": "b34fa316-01a5-43e0-effa-5f89901111f2",
        "colab": {
          "base_uri": "https://localhost:8080/"
        }
      },
      "outputs": [
        {
          "output_type": "stream",
          "name": "stdout",
          "text": [
            "Cloning into 'hw1'...\n",
            "remote: Enumerating objects: 55, done.\u001b[K\n",
            "remote: Counting objects: 100% (55/55), done.\u001b[K\n",
            "remote: Compressing objects: 100% (43/43), done.\u001b[K\n",
            "remote: Total 55 (delta 26), reused 28 (delta 11), pack-reused 0 (from 0)\u001b[K\n",
            "Receiving objects: 100% (55/55), 723.52 KiB | 8.22 MiB/s, done.\n",
            "Resolving deltas: 100% (26/26), done.\n"
          ]
        }
      ],
      "source": [
        "# If cloning is needed -- i.e., if hangman.py and word counts are not already\n",
        "# available in file, you can run this\n",
        "!git clone https://github.com/ucsd-cse150a-w25/hw1.git\n",
        "!cp hw1/hangman.py hangman.py\n",
        "!cp hw1/hw1_word_counts_05.txt hw1_word_counts_05.txt"
      ]
    },
    {
      "cell_type": "code",
      "execution_count": 3,
      "metadata": {
        "id": "GYtiXbagKC38",
        "outputId": "c02b9edf-3e51-4a1b-bee2-c5424f33f10d",
        "colab": {
          "base_uri": "https://localhost:8080/"
        }
      },
      "outputs": [
        {
          "output_type": "stream",
          "name": "stdout",
          "text": [
            "\n",
            "\n",
            "  +---+\n",
            "  O   |\n",
            " /|\\  |\n",
            "      |\n",
            "     ===\n",
            "\n",
            "Word: R A Z O R\n",
            "Tried letters: A, I, O, R, S, T, U, Z\n",
            "Congratulations! You guessed the word:  RAZOR\n"
          ]
        },
        {
          "output_type": "execute_result",
          "data": {
            "text/plain": [
              "1"
            ]
          },
          "metadata": {},
          "execution_count": 3
        }
      ],
      "source": [
        "from hangman import hangman_game\n",
        "\n",
        "# Play the game by yourself\n",
        "hangman_game()"
      ]
    },
    {
      "cell_type": "code",
      "execution_count": 10,
      "metadata": {
        "id": "HP_8Gy59KC38",
        "outputId": "79de4b9a-9141-4ef5-cc91-c8f1072794ad",
        "colab": {
          "base_uri": "https://localhost:8080/"
        }
      },
      "outputs": [
        {
          "output_type": "stream",
          "name": "stdout",
          "text": [
            "\n",
            "\n",
            "  +---+\n",
            "  O   |\n",
            " /|\\  |\n",
            " / \\  |\n",
            "     ===\n",
            "\n",
            "Word: _ _ _ _ _\n",
            "Tried letters: C, D, K, O, Q, W\n",
            "Game over! The word was:  STEPS\n"
          ]
        },
        {
          "output_type": "execute_result",
          "data": {
            "text/plain": [
              "0"
            ]
          },
          "metadata": {},
          "execution_count": 10
        }
      ],
      "source": [
        "import random\n",
        "\n",
        "def random_inference(\n",
        "    letters_tried: set[str],\n",
        "    word_pattern: list[str],\n",
        "    word_counts: dict[str, int]\n",
        ") -> str:\n",
        "    '''\n",
        "    Random inference for playing hangman. This should be a simple method which returns a letter\n",
        "    that is NOT in letters_tried but any other letter, at random.\n",
        "\n",
        "    Hint: use the random.choice method\n",
        "    '''\n",
        "    # TODO: Implement random inference code to guess hangman\n",
        "    letters = ['A', 'B', 'C', 'D', 'E', 'F', 'G', 'H', 'I', 'J', 'K', 'L', 'M', 'N', 'O', 'P', 'Q', 'R', 'S', 'T', 'U', 'V', 'W', 'X', 'Y', 'Z']\n",
        "    guess = random.choice(letters)\n",
        "    while guess in letters_tried:\n",
        "        guess = random.choice(letters)\n",
        "\n",
        "    return guess\n",
        "\n",
        "hangman_game(random_inference)"
      ]
    },
    {
      "cell_type": "code",
      "source": [],
      "metadata": {
        "id": "rflWKlxgkk6c"
      },
      "execution_count": null,
      "outputs": []
    },
    {
      "cell_type": "code",
      "execution_count": 15,
      "metadata": {
        "id": "CGmWBdsXM4cN",
        "outputId": "629586f1-eff8-41d9-ef84-2468d1cd78b5",
        "colab": {
          "base_uri": "https://localhost:8080/",
          "height": 176
        }
      },
      "outputs": [
        {
          "output_type": "error",
          "ename": "TypeError",
          "evalue": "bayesian_inference() missing 3 required positional arguments: 'letters_tried', 'word_pattern', and 'word_counts'",
          "traceback": [
            "\u001b[0;31m---------------------------------------------------------------------------\u001b[0m",
            "\u001b[0;31mTypeError\u001b[0m                                 Traceback (most recent call last)",
            "\u001b[0;32m<ipython-input-15-8fc0660e2e51>\u001b[0m in \u001b[0;36m<cell line: 0>\u001b[0;34m()\u001b[0m\n\u001b[1;32m     81\u001b[0m \u001b[0;34m\u001b[0m\u001b[0m\n\u001b[1;32m     82\u001b[0m \u001b[0;31m# Run the game\u001b[0m\u001b[0;34m\u001b[0m\u001b[0;34m\u001b[0m\u001b[0m\n\u001b[0;32m---> 83\u001b[0;31m \u001b[0mhangman_game\u001b[0m\u001b[0;34m(\u001b[0m\u001b[0mbayesian_inference\u001b[0m\u001b[0;34m(\u001b[0m\u001b[0;34m)\u001b[0m\u001b[0;34m)\u001b[0m\u001b[0;34m\u001b[0m\u001b[0;34m\u001b[0m\u001b[0m\n\u001b[0m",
            "\u001b[0;31mTypeError\u001b[0m: bayesian_inference() missing 3 required positional arguments: 'letters_tried', 'word_pattern', and 'word_counts'"
          ]
        }
      ],
      "source": [
        "#from _typeshed import NoneType\n",
        "def bayesian_inference(\n",
        "    letters_tried: set[str],\n",
        "    word_pattern: list[str],\n",
        "    word_counts: dict[str, int]\n",
        ") -> str:\n",
        "    '''\n",
        "    Bayesian inference method for playing hangman. The parameters given are as follows:\n",
        "\n",
        "    - letters_tried (set[str]): A set of strings which consist of all the letters that have already\n",
        "        been tried. For example, if 'A', 'E' has been guessed, `letters_tried = {'A', 'E'}`\n",
        "    - word_pattern (list[str]): A list of single characters that describe the current guess state.\n",
        "        For example, if the hangman state is _AB__, `word_pattern = ['_', 'A', 'B', '_', '_']`\n",
        "    - word_counts (dict[str, int]): The word counts dictionary which contains all possible 5 letter\n",
        "        words in our hangman game and their respective counts. For example, a key value pair could\n",
        "        be 'AARON': 413.\n",
        "\n",
        "    Return type: a single character string as your next best guess.\n",
        "    '''\n",
        "    # TODO: Implement inference code to play hangman optimally\n",
        "    #set letters to all letters not yet tried\n",
        "    letters = {'a', 'b', 'c', 'd', 'e', 'f', 'g', 'h', 'i', 'j', 'k', 'l', 'm', 'n', 'o', 'p', 'q', 'r', 's', 't', 'u', 'v', 'w', 'x', 'y', 'z'}\n",
        "    letters = letters - letters_tried\n",
        "    total_count = 0\n",
        "    Pw = 0 #Prob of current word = w\n",
        "    Pe = 0 #Prob of current evidence\n",
        "    PEgivenW = 1 #Prob of evidence given word, either 0 or 1\n",
        "    PwgivenE = 0 #Prob of word given evidence\n",
        "    PLgivenW = 0 #Prob of letter given word, either 0 or 1\n",
        "    PLgivenE = 0 #the prob of most likely letter given the evidence\n",
        "    tempPLgivenE = 0 #temp prob of most likely letter given the evidence\n",
        "    likelyL = None\n",
        "\n",
        "    #finds total number of words in word_counts\n",
        "    for word, count in word_counts:\n",
        "        total_count += count\n",
        "\n",
        "    #find denominator for Bayes, P(E)\n",
        "    for word, count in word_counts:\n",
        "      Pw = count / total_count\n",
        "      PEgivenW = 1\n",
        "      for i in range(0, 5): #checks if current word is valid\n",
        "        if word_pattern[i] == word[i] or (word[i] not in letters_tried and word_pattern[i] == '_'): #word is still valid\n",
        "          continue\n",
        "        else: #word is invalid\n",
        "          PEgivenw = 0\n",
        "          break\n",
        "      Pe += PEgivenW * Pw\n",
        "\n",
        "    #find prob of most likely letter\n",
        "    for letter in letters:\n",
        "      for word in word_counts:\n",
        "        #find prob of word given evidence via Bayes\n",
        "        Pw = word_counts[word] / total_count\n",
        "        PEgivenW = 1\n",
        "        for i in range(0, 5): #checks if current word is valid\n",
        "          if word_pattern[i] == word[i] or (word[i] not in letters_tried and word_pattern[i] == '_'): #word is still valid\n",
        "            continue\n",
        "          else: #word is invalid\n",
        "            PEgivenw = 0\n",
        "            break\n",
        "        PwgivenE = PEgivenW * Pw / Pe\n",
        "\n",
        "        #find prob of letter given word, either 0 or 1\n",
        "        PLgivenW = 0\n",
        "        for i in range(0, 5):\n",
        "          if word_pattern[i] == '_' and letter == word[i]:\n",
        "            PLgivenW = 1\n",
        "            break\n",
        "        tempPLgivenE += PLgivenW * PwgivenE\n",
        "\n",
        "      #checks if PLgivenE of subsequent letter is greater than current one\n",
        "      if tempPLgivenE > PLgivenE:\n",
        "        PLgivenE = tempPLgivenE\n",
        "        likelyL = letter\n",
        "\n",
        "      #reset for next letter\n",
        "      tempPLgivenE = 0\n",
        "\n",
        "    return likelyL\n",
        "\n",
        "# Run the game\n",
        "hangman_game(bayesian_inference)"
      ]
    },
    {
      "cell_type": "code",
      "execution_count": null,
      "metadata": {
        "id": "2kazhTCTKC39"
      },
      "outputs": [],
      "source": [
        "from typing import Optional, Callable\n",
        "# from tqdm import tqdm\n",
        "\n",
        "def benchmark(\n",
        "    inference: Optional[Callable],\n",
        "    num_runs: int = 1000,\n",
        "    seed: int = 0\n",
        ") -> None:\n",
        "    '''\n",
        "    Benchmark method for testing out the bayesian inference method. The parameters given are:\n",
        "\n",
        "    - inference: The function that should match the bayesian_inference() method above.\n",
        "    - seed: The seed to pass into the hangman_game function.\n",
        "\n",
        "    Return type: none.\n",
        "\n",
        "    Print the accuracy out of num_runs. If the function throws an error, it should count as a fail.\n",
        "    '''\n",
        "    # TODO: Implement benchmark testing for a given function\n",
        "    # Hint: use `random.seed(seed)` ONCE at the start\n",
        "    # Hint: pass `interactive = False` into the hangman_game function to run faster without outputs.\n",
        "    # Optional: use the `tqdm` module to keep track of the evaluation progress.\n",
        "\n",
        "benchmark(random_inference)\n",
        "benchmark(bayesian_inference)"
      ]
    }
  ],
  "metadata": {
    "colab": {
      "provenance": []
    },
    "kernelspec": {
      "display_name": "Python 3",
      "name": "python3"
    },
    "language_info": {
      "codemirror_mode": {
        "name": "ipython",
        "version": 3
      },
      "file_extension": ".py",
      "mimetype": "text/x-python",
      "name": "python",
      "nbconvert_exporter": "python",
      "pygments_lexer": "ipython3",
      "version": "3.11.0"
    }
  },
  "nbformat": 4,
  "nbformat_minor": 0
}